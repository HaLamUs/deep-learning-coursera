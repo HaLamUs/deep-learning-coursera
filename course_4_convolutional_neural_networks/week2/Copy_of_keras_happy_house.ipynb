{
  "nbformat": 4,
  "nbformat_minor": 0,
  "metadata": {
    "colab": {
      "name": "Copy of keras_happy_house.ipynb",
      "provenance": []
    },
    "kernelspec": {
      "name": "python3",
      "display_name": "Python 3"
    }
  },
  "cells": [
    {
      "cell_type": "code",
      "metadata": {
        "id": "SLoL0gon7_Z4",
        "colab_type": "code",
        "outputId": "05aca875-6d6f-4ca0-e6f3-d993c67827aa",
        "colab": {
          "base_uri": "https://localhost:8080/",
          "height": 175
        }
      },
      "source": [
        "!pip install Keras"
      ],
      "execution_count": 0,
      "outputs": [
        {
          "output_type": "stream",
          "text": [
            "Requirement already satisfied: Keras in /usr/local/lib/python3.6/dist-packages (2.2.5)\n",
            "Requirement already satisfied: keras-preprocessing>=1.1.0 in /usr/local/lib/python3.6/dist-packages (from Keras) (1.1.0)\n",
            "Requirement already satisfied: h5py in /usr/local/lib/python3.6/dist-packages (from Keras) (2.8.0)\n",
            "Requirement already satisfied: numpy>=1.9.1 in /usr/local/lib/python3.6/dist-packages (from Keras) (1.17.5)\n",
            "Requirement already satisfied: scipy>=0.14 in /usr/local/lib/python3.6/dist-packages (from Keras) (1.4.1)\n",
            "Requirement already satisfied: six>=1.9.0 in /usr/local/lib/python3.6/dist-packages (from Keras) (1.12.0)\n",
            "Requirement already satisfied: pyyaml in /usr/local/lib/python3.6/dist-packages (from Keras) (3.13)\n",
            "Requirement already satisfied: keras-applications>=1.0.8 in /usr/local/lib/python3.6/dist-packages (from Keras) (1.0.8)\n"
          ],
          "name": "stdout"
        }
      ]
    },
    {
      "cell_type": "code",
      "metadata": {
        "id": "4ni7qSxm6yoN",
        "colab_type": "code",
        "colab": {}
      },
      "source": [
        "import numpy as np\n",
        "from keras import layers\n",
        "from keras.layers import Input, Dense, Activation, ZeroPadding2D, BatchNormalization, Flatten, Conv2D\n",
        "from keras.layers import AveragePooling2D, MaxPooling2D, Dropout, GlobalMaxPooling2D, GlobalAveragePooling2D\n",
        "from keras.models import Model\n",
        "from keras.preprocessing import image\n",
        "from keras.utils import layer_utils\n",
        "from keras.utils.data_utils import get_file\n",
        "from keras.applications.imagenet_utils import preprocess_input\n",
        "import pydot\n",
        "from IPython.display import SVG\n",
        "from keras.utils.vis_utils import model_to_dot\n",
        "from keras.utils import plot_model\n",
        "from kt_utils import *\n",
        "\n",
        "import keras.backend as K\n",
        "K.set_image_data_format('channels_last')\n",
        "import matplotlib.pyplot as plt\n",
        "from matplotlib.pyplot import imshow"
      ],
      "execution_count": 0,
      "outputs": []
    },
    {
      "cell_type": "code",
      "metadata": {
        "id": "7Ji0VWf385DQ",
        "colab_type": "code",
        "outputId": "0ab66ff3-7036-43ab-c490-15989dfcf253",
        "colab": {
          "base_uri": "https://localhost:8080/",
          "height": 35
        }
      },
      "source": [
        "!ls"
      ],
      "execution_count": 0,
      "outputs": [
        {
          "output_type": "stream",
          "text": [
            "datasets  kt_utils.py  sample_data  train_face.h5\n"
          ],
          "name": "stdout"
        }
      ]
    },
    {
      "cell_type": "code",
      "metadata": {
        "id": "Fyhkc3Tc8OVw",
        "colab_type": "code",
        "colab": {}
      },
      "source": [
        "!mv test_happy.h5 datasets"
      ],
      "execution_count": 0,
      "outputs": []
    },
    {
      "cell_type": "code",
      "metadata": {
        "id": "H1AXiQpp9BOl",
        "colab_type": "code",
        "outputId": "ef100a48-59b6-4535-b680-2a6a90d7bd14",
        "colab": {
          "base_uri": "https://localhost:8080/",
          "height": 121
        }
      },
      "source": [
        "X_train_orig, Y_train_orig, X_test_orig, Y_test_orig, classes = load_dataset()\n",
        "\n",
        "# Normalize image vectors\n",
        "X_train = X_train_orig/255.\n",
        "X_test = X_test_orig/255.\n",
        "\n",
        "# Reshape\n",
        "Y_train = Y_train_orig.T\n",
        "Y_test = Y_test_orig.T\n",
        "\n",
        "print (\"number of training examples = \" + str(X_train.shape[0]))\n",
        "print (\"number of test examples = \" + str(X_test.shape[0]))\n",
        "print (\"X_train shape: \" + str(X_train.shape))\n",
        "print (\"Y_train shape: \" + str(Y_train.shape))\n",
        "print (\"X_test shape: \" + str(X_test.shape))\n",
        "print (\"Y_test shape: \" + str(Y_test.shape))"
      ],
      "execution_count": 0,
      "outputs": [
        {
          "output_type": "stream",
          "text": [
            "number of training examples = 600\n",
            "number of test examples = 150\n",
            "X_train shape: (600, 64, 64, 3)\n",
            "Y_train shape: (600, 1)\n",
            "X_test shape: (150, 64, 64, 3)\n",
            "Y_test shape: (150, 1)\n"
          ],
          "name": "stdout"
        }
      ]
    },
    {
      "cell_type": "code",
      "metadata": {
        "id": "KF2ZgNsl9NED",
        "colab_type": "code",
        "colab": {}
      },
      "source": [
        "def HappyModel(input_shape):\n",
        "    \"\"\"\n",
        "    Implementation of the HappyModel.\n",
        "    \n",
        "    Arguments:\n",
        "    input_shape -- shape of the images of the dataset\n",
        "\n",
        "    Returns:\n",
        "    model -- a Model() instance in Keras\n",
        "    \"\"\"\n",
        "    \n",
        "    ### START CODE HERE ###\n",
        "    # Feel free to use the suggested outline in the text above to get started, and run through the whole\n",
        "    # exercise (including the later portions of this notebook) once. The come back also try out other network architectures as well. \n",
        "    # Define the input placeholder as a tensor with shape input_shape. Think of this as your input image!\n",
        "    X_input = Input(input_shape)\n",
        "\n",
        "    # Zero-Padding: pads the border of X_input with zeroes\n",
        "    X = ZeroPadding2D((3, 3))(X_input)\n",
        "\n",
        "    # CONV -> BN -> RELU Block applied to X\n",
        "    X = Conv2D(32, (7, 7), strides = (1, 1), name = 'conv0')(X) \n",
        "    X = BatchNormalization(axis = 3, name = 'bn0')(X) \n",
        "    X = Activation('relu')(X)\n",
        "\n",
        "    # MAXPOOL\n",
        "    X = MaxPooling2D((2, 2), name='max_pool')(X)\n",
        "\n",
        "    # FLATTEN X (means convert it to a vector) + FULLYCONNECTED\n",
        "    X = Flatten()(X)\n",
        "    X = Dense(1, activation='sigmoid', name='fc')(X) \n",
        "\n",
        "    # Create model. This creates your Keras model instance, you'll use this instance to train/test the model.\n",
        "    model = Model(inputs = X_input, outputs = X, name='HappyModel')\n",
        "\n",
        "    ### END CODE HERE ###\n",
        "    \n",
        "    return model"
      ],
      "execution_count": 0,
      "outputs": []
    },
    {
      "cell_type": "code",
      "metadata": {
        "id": "PXpa9gQl9YB0",
        "colab_type": "code",
        "outputId": "559f54e7-40cf-4921-85d5-6f912785f389",
        "colab": {
          "base_uri": "https://localhost:8080/",
          "height": 35
        }
      },
      "source": [
        "X_train.shape"
      ],
      "execution_count": 0,
      "outputs": [
        {
          "output_type": "execute_result",
          "data": {
            "text/plain": [
              "(600, 64, 64, 3)"
            ]
          },
          "metadata": {
            "tags": []
          },
          "execution_count": 14
        }
      ]
    },
    {
      "cell_type": "code",
      "metadata": {
        "id": "0P1DFKeA-i3W",
        "colab_type": "code",
        "outputId": "c44c4fc0-a5c0-4c1f-c6e6-d8a5f2021297",
        "colab": {
          "base_uri": "https://localhost:8080/",
          "height": 35
        }
      },
      "source": [
        "X_train.shape[1:]"
      ],
      "execution_count": 0,
      "outputs": [
        {
          "output_type": "execute_result",
          "data": {
            "text/plain": [
              "(64, 64, 3)"
            ]
          },
          "metadata": {
            "tags": []
          },
          "execution_count": 15
        }
      ]
    },
    {
      "cell_type": "code",
      "metadata": {
        "id": "ny3V5XphBL0e",
        "colab_type": "code",
        "outputId": "f9b5d071-d686-41be-988b-a362e0f1b36b",
        "colab": {
          "base_uri": "https://localhost:8080/",
          "height": 1000
        }
      },
      "source": [
        "\n",
        "# create model\n",
        "model = HappyModel(X_train.shape[1:])  #slice items starting from index \n",
        "# complie model \n",
        "model.compile(optimizer = \"adam\", loss = \"binary_crossentropy\", metrics = [\"accuracy\"])\n",
        "# train\n",
        "model.fit(x = X_train, y = Y_train, epochs = 60, batch_size = 10)\n",
        "# test \n",
        "preds = model.evaluate(x = X_test, y = Y_test)\n",
        "print()\n",
        "print (\"Loss = \" + str(preds[0]))\n",
        "print (\"Test Accuracy = \" + str(preds[1]))"
      ],
      "execution_count": 0,
      "outputs": [
        {
          "output_type": "stream",
          "text": [
            "WARNING:tensorflow:From /usr/local/lib/python3.6/dist-packages/keras/backend/tensorflow_backend.py:66: The name tf.get_default_graph is deprecated. Please use tf.compat.v1.get_default_graph instead.\n",
            "\n",
            "WARNING:tensorflow:From /usr/local/lib/python3.6/dist-packages/keras/backend/tensorflow_backend.py:541: The name tf.placeholder is deprecated. Please use tf.compat.v1.placeholder instead.\n",
            "\n",
            "WARNING:tensorflow:From /usr/local/lib/python3.6/dist-packages/keras/backend/tensorflow_backend.py:4432: The name tf.random_uniform is deprecated. Please use tf.random.uniform instead.\n",
            "\n",
            "WARNING:tensorflow:From /usr/local/lib/python3.6/dist-packages/keras/backend/tensorflow_backend.py:190: The name tf.get_default_session is deprecated. Please use tf.compat.v1.get_default_session instead.\n",
            "\n",
            "WARNING:tensorflow:From /usr/local/lib/python3.6/dist-packages/keras/backend/tensorflow_backend.py:197: The name tf.ConfigProto is deprecated. Please use tf.compat.v1.ConfigProto instead.\n",
            "\n",
            "WARNING:tensorflow:From /usr/local/lib/python3.6/dist-packages/keras/backend/tensorflow_backend.py:203: The name tf.Session is deprecated. Please use tf.compat.v1.Session instead.\n",
            "\n",
            "WARNING:tensorflow:From /usr/local/lib/python3.6/dist-packages/keras/backend/tensorflow_backend.py:207: The name tf.global_variables is deprecated. Please use tf.compat.v1.global_variables instead.\n",
            "\n",
            "WARNING:tensorflow:From /usr/local/lib/python3.6/dist-packages/keras/backend/tensorflow_backend.py:216: The name tf.is_variable_initialized is deprecated. Please use tf.compat.v1.is_variable_initialized instead.\n",
            "\n",
            "WARNING:tensorflow:From /usr/local/lib/python3.6/dist-packages/keras/backend/tensorflow_backend.py:223: The name tf.variables_initializer is deprecated. Please use tf.compat.v1.variables_initializer instead.\n",
            "\n",
            "WARNING:tensorflow:From /usr/local/lib/python3.6/dist-packages/keras/backend/tensorflow_backend.py:2041: The name tf.nn.fused_batch_norm is deprecated. Please use tf.compat.v1.nn.fused_batch_norm instead.\n",
            "\n",
            "WARNING:tensorflow:From /usr/local/lib/python3.6/dist-packages/keras/backend/tensorflow_backend.py:148: The name tf.placeholder_with_default is deprecated. Please use tf.compat.v1.placeholder_with_default instead.\n",
            "\n",
            "WARNING:tensorflow:From /usr/local/lib/python3.6/dist-packages/keras/backend/tensorflow_backend.py:4267: The name tf.nn.max_pool is deprecated. Please use tf.nn.max_pool2d instead.\n",
            "\n",
            "WARNING:tensorflow:From /usr/local/lib/python3.6/dist-packages/keras/optimizers.py:793: The name tf.train.Optimizer is deprecated. Please use tf.compat.v1.train.Optimizer instead.\n",
            "\n",
            "WARNING:tensorflow:From /usr/local/lib/python3.6/dist-packages/keras/backend/tensorflow_backend.py:3657: The name tf.log is deprecated. Please use tf.math.log instead.\n",
            "\n",
            "WARNING:tensorflow:From /usr/local/lib/python3.6/dist-packages/tensorflow_core/python/ops/nn_impl.py:183: where (from tensorflow.python.ops.array_ops) is deprecated and will be removed in a future version.\n",
            "Instructions for updating:\n",
            "Use tf.where in 2.0, which has the same broadcast rule as np.where\n",
            "WARNING:tensorflow:From /usr/local/lib/python3.6/dist-packages/keras/backend/tensorflow_backend.py:1033: The name tf.assign_add is deprecated. Please use tf.compat.v1.assign_add instead.\n",
            "\n",
            "WARNING:tensorflow:From /usr/local/lib/python3.6/dist-packages/keras/backend/tensorflow_backend.py:1020: The name tf.assign is deprecated. Please use tf.compat.v1.assign instead.\n",
            "\n",
            "Epoch 1/60\n",
            "600/600 [==============================] - 6s 9ms/step - loss: 0.7864 - acc: 0.7633\n",
            "Epoch 2/60\n",
            "600/600 [==============================] - 5s 8ms/step - loss: 0.1883 - acc: 0.9317\n",
            "Epoch 3/60\n",
            "600/600 [==============================] - 5s 8ms/step - loss: 0.2947 - acc: 0.8883\n",
            "Epoch 4/60\n",
            "600/600 [==============================] - 5s 9ms/step - loss: 0.2826 - acc: 0.9067\n",
            "Epoch 5/60\n",
            "600/600 [==============================] - 5s 9ms/step - loss: 0.1899 - acc: 0.9400\n",
            "Epoch 6/60\n",
            "600/600 [==============================] - 5s 9ms/step - loss: 0.2225 - acc: 0.9400\n",
            "Epoch 7/60\n",
            "600/600 [==============================] - 5s 9ms/step - loss: 0.1448 - acc: 0.9550\n",
            "Epoch 8/60\n",
            "600/600 [==============================] - 5s 8ms/step - loss: 0.1454 - acc: 0.9550\n",
            "Epoch 9/60\n",
            "600/600 [==============================] - 5s 8ms/step - loss: 0.1193 - acc: 0.9617\n",
            "Epoch 10/60\n",
            "600/600 [==============================] - 5s 8ms/step - loss: 0.0988 - acc: 0.9683\n",
            "Epoch 11/60\n",
            "600/600 [==============================] - 5s 8ms/step - loss: 0.3098 - acc: 0.9250\n",
            "Epoch 12/60\n",
            "600/600 [==============================] - 5s 8ms/step - loss: 0.1952 - acc: 0.9500\n",
            "Epoch 13/60\n",
            "600/600 [==============================] - 5s 8ms/step - loss: 0.1142 - acc: 0.9700\n",
            "Epoch 14/60\n",
            "600/600 [==============================] - 5s 8ms/step - loss: 0.1212 - acc: 0.9700\n",
            "Epoch 15/60\n",
            "600/600 [==============================] - 5s 8ms/step - loss: 0.0790 - acc: 0.9783\n",
            "Epoch 16/60\n",
            "600/600 [==============================] - 5s 9ms/step - loss: 0.1157 - acc: 0.9650\n",
            "Epoch 17/60\n",
            "600/600 [==============================] - 5s 8ms/step - loss: 0.1400 - acc: 0.9583\n",
            "Epoch 18/60\n",
            "600/600 [==============================] - 5s 9ms/step - loss: 0.2632 - acc: 0.9383\n",
            "Epoch 19/60\n",
            "600/600 [==============================] - 5s 8ms/step - loss: 0.1333 - acc: 0.9650\n",
            "Epoch 20/60\n",
            "600/600 [==============================] - 5s 9ms/step - loss: 0.0738 - acc: 0.9750\n",
            "Epoch 21/60\n",
            "600/600 [==============================] - 5s 8ms/step - loss: 0.0356 - acc: 0.9850\n",
            "Epoch 22/60\n",
            "600/600 [==============================] - 5s 8ms/step - loss: 0.0500 - acc: 0.9883\n",
            "Epoch 23/60\n",
            "600/600 [==============================] - 5s 9ms/step - loss: 0.0670 - acc: 0.9867\n",
            "Epoch 24/60\n",
            "600/600 [==============================] - 5s 8ms/step - loss: 0.1403 - acc: 0.9633\n",
            "Epoch 25/60\n",
            "600/600 [==============================] - 5s 8ms/step - loss: 0.2125 - acc: 0.9517\n",
            "Epoch 26/60\n",
            "600/600 [==============================] - 5s 8ms/step - loss: 0.1565 - acc: 0.9667\n",
            "Epoch 27/60\n",
            "600/600 [==============================] - 5s 9ms/step - loss: 0.0502 - acc: 0.9800\n",
            "Epoch 28/60\n",
            "600/600 [==============================] - 5s 9ms/step - loss: 0.0882 - acc: 0.9767\n",
            "Epoch 29/60\n",
            "600/600 [==============================] - 5s 8ms/step - loss: 0.3470 - acc: 0.9500\n",
            "Epoch 30/60\n",
            "600/600 [==============================] - 5s 9ms/step - loss: 0.1106 - acc: 0.9717\n",
            "Epoch 31/60\n",
            "600/600 [==============================] - 5s 8ms/step - loss: 0.0389 - acc: 0.9900\n",
            "Epoch 32/60\n",
            "600/600 [==============================] - 5s 9ms/step - loss: 0.1175 - acc: 0.9733\n",
            "Epoch 33/60\n",
            "600/600 [==============================] - 5s 8ms/step - loss: 0.0548 - acc: 0.9917\n",
            "Epoch 34/60\n",
            "600/600 [==============================] - 5s 8ms/step - loss: 0.1597 - acc: 0.9633\n",
            "Epoch 35/60\n",
            "600/600 [==============================] - 5s 8ms/step - loss: 0.1198 - acc: 0.9667\n",
            "Epoch 36/60\n",
            "600/600 [==============================] - 5s 8ms/step - loss: 0.0331 - acc: 0.9900\n",
            "Epoch 37/60\n",
            "600/600 [==============================] - 5s 8ms/step - loss: 0.0976 - acc: 0.9800\n",
            "Epoch 38/60\n",
            "600/600 [==============================] - 5s 8ms/step - loss: 0.0914 - acc: 0.9800\n",
            "Epoch 39/60\n",
            "600/600 [==============================] - 5s 9ms/step - loss: 0.0388 - acc: 0.9900\n",
            "Epoch 40/60\n",
            "600/600 [==============================] - 5s 9ms/step - loss: 0.0314 - acc: 0.9917\n",
            "Epoch 41/60\n",
            "600/600 [==============================] - 5s 8ms/step - loss: 0.0183 - acc: 0.9933\n",
            "Epoch 42/60\n",
            "600/600 [==============================] - 5s 9ms/step - loss: 0.0724 - acc: 0.9850\n",
            "Epoch 43/60\n",
            "600/600 [==============================] - 5s 8ms/step - loss: 0.0957 - acc: 0.9767\n",
            "Epoch 44/60\n",
            "600/600 [==============================] - 5s 8ms/step - loss: 0.0660 - acc: 0.9900\n",
            "Epoch 45/60\n",
            "600/600 [==============================] - 5s 8ms/step - loss: 0.0660 - acc: 0.9850\n",
            "Epoch 46/60\n",
            "600/600 [==============================] - 5s 8ms/step - loss: 0.0630 - acc: 0.9883\n",
            "Epoch 47/60\n",
            "600/600 [==============================] - 5s 8ms/step - loss: 0.0518 - acc: 0.9933\n",
            "Epoch 48/60\n",
            "600/600 [==============================] - 5s 8ms/step - loss: 0.0047 - acc: 0.9967\n",
            "Epoch 49/60\n",
            "600/600 [==============================] - 5s 8ms/step - loss: 0.0518 - acc: 0.9850\n",
            "Epoch 50/60\n",
            "600/600 [==============================] - 5s 8ms/step - loss: 0.0453 - acc: 0.9883\n",
            "Epoch 51/60\n",
            "600/600 [==============================] - 5s 9ms/step - loss: 0.1046 - acc: 0.9767\n",
            "Epoch 52/60\n",
            "600/600 [==============================] - 5s 9ms/step - loss: 0.0921 - acc: 0.9817\n",
            "Epoch 53/60\n",
            "600/600 [==============================] - 5s 8ms/step - loss: 0.0702 - acc: 0.9917\n",
            "Epoch 54/60\n",
            "600/600 [==============================] - 5s 8ms/step - loss: 0.0443 - acc: 0.9917\n",
            "Epoch 55/60\n",
            "600/600 [==============================] - 5s 8ms/step - loss: 0.0096 - acc: 0.9967\n",
            "Epoch 56/60\n",
            "600/600 [==============================] - 5s 8ms/step - loss: 0.0316 - acc: 0.9917\n",
            "Epoch 57/60\n",
            "600/600 [==============================] - 5s 8ms/step - loss: 0.0825 - acc: 0.9800\n",
            "Epoch 58/60\n",
            "600/600 [==============================] - 5s 9ms/step - loss: 0.0621 - acc: 0.9833\n",
            "Epoch 59/60\n",
            "600/600 [==============================] - 5s 9ms/step - loss: 0.0531 - acc: 0.9950\n",
            "Epoch 60/60\n",
            "600/600 [==============================] - 5s 8ms/step - loss: 0.0270 - acc: 0.9983\n",
            "150/150 [==============================] - 1s 4ms/step\n",
            "\n",
            "Loss = 0.06110994005575776\n",
            "Test Accuracy = 0.9666666642824808\n"
          ],
          "name": "stdout"
        }
      ]
    },
    {
      "cell_type": "code",
      "metadata": {
        "id": "Zl3D0gbLCgh0",
        "colab_type": "code",
        "outputId": "95cafdb6-5e5e-4394-a589-9d8a317aa89c",
        "colab": {
          "base_uri": "https://localhost:8080/",
          "height": 432
        }
      },
      "source": [
        "model.summary()"
      ],
      "execution_count": 0,
      "outputs": [
        {
          "output_type": "stream",
          "text": [
            "Model: \"HappyModel\"\n",
            "_________________________________________________________________\n",
            "Layer (type)                 Output Shape              Param #   \n",
            "=================================================================\n",
            "input_1 (InputLayer)         (None, 64, 64, 3)         0         \n",
            "_________________________________________________________________\n",
            "zero_padding2d_1 (ZeroPaddin (None, 70, 70, 3)         0         \n",
            "_________________________________________________________________\n",
            "conv0 (Conv2D)               (None, 64, 64, 32)        4736      \n",
            "_________________________________________________________________\n",
            "bn0 (BatchNormalization)     (None, 64, 64, 32)        128       \n",
            "_________________________________________________________________\n",
            "activation_1 (Activation)    (None, 64, 64, 32)        0         \n",
            "_________________________________________________________________\n",
            "max_pool (MaxPooling2D)      (None, 32, 32, 32)        0         \n",
            "_________________________________________________________________\n",
            "flatten_1 (Flatten)          (None, 32768)             0         \n",
            "_________________________________________________________________\n",
            "fc (Dense)                   (None, 1)                 32769     \n",
            "=================================================================\n",
            "Total params: 37,633\n",
            "Trainable params: 37,569\n",
            "Non-trainable params: 64\n",
            "_________________________________________________________________\n"
          ],
          "name": "stdout"
        }
      ]
    },
    {
      "cell_type": "code",
      "metadata": {
        "id": "h78vRNZ5Cqly",
        "colab_type": "code",
        "outputId": "64f17226-3e4d-4204-ec95-ea89db92b2ba",
        "colab": {
          "base_uri": "https://localhost:8080/",
          "height": 1000
        }
      },
      "source": [
        "plot_model(model, to_file='HappyModel.png')\n",
        "SVG(model_to_dot(model).create(prog='dot', format='svg'))"
      ],
      "execution_count": 0,
      "outputs": [
        {
          "output_type": "execute_result",
          "data": {
            "text/plain": [
              "<IPython.core.display.SVG object>"
            ],
            "image/svg+xml": "<svg height=\"741pt\" viewBox=\"0.00 0.00 234.00 556.00\" width=\"312pt\" xmlns=\"http://www.w3.org/2000/svg\" xmlns:xlink=\"http://www.w3.org/1999/xlink\">\n<g class=\"graph\" id=\"graph0\" transform=\"scale(1.3333 1.3333) rotate(0) translate(4 552)\">\n<title>G</title>\n<polygon fill=\"#ffffff\" points=\"-4,4 -4,-552 230,-552 230,4 -4,4\" stroke=\"transparent\"/>\n<!-- 140546015988816 -->\n<g class=\"node\" id=\"node1\">\n<title>140546015988816</title>\n<polygon fill=\"none\" points=\"46.5,-511.5 46.5,-547.5 179.5,-547.5 179.5,-511.5 46.5,-511.5\" stroke=\"#000000\"/>\n<text fill=\"#000000\" font-family=\"Times,serif\" font-size=\"14.00\" text-anchor=\"middle\" x=\"113\" y=\"-525.8\">input_1: InputLayer</text>\n</g>\n<!-- 140546015989488 -->\n<g class=\"node\" id=\"node2\">\n<title>140546015989488</title>\n<polygon fill=\"none\" points=\"0,-438.5 0,-474.5 226,-474.5 226,-438.5 0,-438.5\" stroke=\"#000000\"/>\n<text fill=\"#000000\" font-family=\"Times,serif\" font-size=\"14.00\" text-anchor=\"middle\" x=\"113\" y=\"-452.8\">zero_padding2d_1: ZeroPadding2D</text>\n</g>\n<!-- 140546015988816&#45;&gt;140546015989488 -->\n<g class=\"edge\" id=\"edge1\">\n<title>140546015988816-&gt;140546015989488</title>\n<path d=\"M113,-511.4551C113,-503.3828 113,-493.6764 113,-484.6817\" fill=\"none\" stroke=\"#000000\"/>\n<polygon fill=\"#000000\" points=\"116.5001,-484.5903 113,-474.5904 109.5001,-484.5904 116.5001,-484.5903\" stroke=\"#000000\"/>\n</g>\n<!-- 140546015989152 -->\n<g class=\"node\" id=\"node3\">\n<title>140546015989152</title>\n<polygon fill=\"none\" points=\"58,-365.5 58,-401.5 168,-401.5 168,-365.5 58,-365.5\" stroke=\"#000000\"/>\n<text fill=\"#000000\" font-family=\"Times,serif\" font-size=\"14.00\" text-anchor=\"middle\" x=\"113\" y=\"-379.8\">conv0: Conv2D</text>\n</g>\n<!-- 140546015989488&#45;&gt;140546015989152 -->\n<g class=\"edge\" id=\"edge2\">\n<title>140546015989488-&gt;140546015989152</title>\n<path d=\"M113,-438.4551C113,-430.3828 113,-420.6764 113,-411.6817\" fill=\"none\" stroke=\"#000000\"/>\n<polygon fill=\"#000000\" points=\"116.5001,-411.5903 113,-401.5904 109.5001,-411.5904 116.5001,-411.5903\" stroke=\"#000000\"/>\n</g>\n<!-- 140546015569120 -->\n<g class=\"node\" id=\"node4\">\n<title>140546015569120</title>\n<polygon fill=\"none\" points=\"32.5,-292.5 32.5,-328.5 193.5,-328.5 193.5,-292.5 32.5,-292.5\" stroke=\"#000000\"/>\n<text fill=\"#000000\" font-family=\"Times,serif\" font-size=\"14.00\" text-anchor=\"middle\" x=\"113\" y=\"-306.8\">bn0: BatchNormalization</text>\n</g>\n<!-- 140546015989152&#45;&gt;140546015569120 -->\n<g class=\"edge\" id=\"edge3\">\n<title>140546015989152-&gt;140546015569120</title>\n<path d=\"M113,-365.4551C113,-357.3828 113,-347.6764 113,-338.6817\" fill=\"none\" stroke=\"#000000\"/>\n<polygon fill=\"#000000\" points=\"116.5001,-338.5903 113,-328.5904 109.5001,-338.5904 116.5001,-338.5903\" stroke=\"#000000\"/>\n</g>\n<!-- 140546015569176 -->\n<g class=\"node\" id=\"node5\">\n<title>140546015569176</title>\n<polygon fill=\"none\" points=\"36,-219.5 36,-255.5 190,-255.5 190,-219.5 36,-219.5\" stroke=\"#000000\"/>\n<text fill=\"#000000\" font-family=\"Times,serif\" font-size=\"14.00\" text-anchor=\"middle\" x=\"113\" y=\"-233.8\">activation_1: Activation</text>\n</g>\n<!-- 140546015569120&#45;&gt;140546015569176 -->\n<g class=\"edge\" id=\"edge4\">\n<title>140546015569120-&gt;140546015569176</title>\n<path d=\"M113,-292.4551C113,-284.3828 113,-274.6764 113,-265.6817\" fill=\"none\" stroke=\"#000000\"/>\n<polygon fill=\"#000000\" points=\"116.5001,-265.5903 113,-255.5904 109.5001,-265.5904 116.5001,-265.5903\" stroke=\"#000000\"/>\n</g>\n<!-- 140546015699184 -->\n<g class=\"node\" id=\"node6\">\n<title>140546015699184</title>\n<polygon fill=\"none\" points=\"26.5,-146.5 26.5,-182.5 199.5,-182.5 199.5,-146.5 26.5,-146.5\" stroke=\"#000000\"/>\n<text fill=\"#000000\" font-family=\"Times,serif\" font-size=\"14.00\" text-anchor=\"middle\" x=\"113\" y=\"-160.8\">max_pool: MaxPooling2D</text>\n</g>\n<!-- 140546015569176&#45;&gt;140546015699184 -->\n<g class=\"edge\" id=\"edge5\">\n<title>140546015569176-&gt;140546015699184</title>\n<path d=\"M113,-219.4551C113,-211.3828 113,-201.6764 113,-192.6817\" fill=\"none\" stroke=\"#000000\"/>\n<polygon fill=\"#000000\" points=\"116.5001,-192.5903 113,-182.5904 109.5001,-192.5904 116.5001,-192.5903\" stroke=\"#000000\"/>\n</g>\n<!-- 140546015347208 -->\n<g class=\"node\" id=\"node7\">\n<title>140546015347208</title>\n<polygon fill=\"none\" points=\"56.5,-73.5 56.5,-109.5 169.5,-109.5 169.5,-73.5 56.5,-73.5\" stroke=\"#000000\"/>\n<text fill=\"#000000\" font-family=\"Times,serif\" font-size=\"14.00\" text-anchor=\"middle\" x=\"113\" y=\"-87.8\">flatten_1: Flatten</text>\n</g>\n<!-- 140546015699184&#45;&gt;140546015347208 -->\n<g class=\"edge\" id=\"edge6\">\n<title>140546015699184-&gt;140546015347208</title>\n<path d=\"M113,-146.4551C113,-138.3828 113,-128.6764 113,-119.6817\" fill=\"none\" stroke=\"#000000\"/>\n<polygon fill=\"#000000\" points=\"116.5001,-119.5903 113,-109.5904 109.5001,-119.5904 116.5001,-119.5903\" stroke=\"#000000\"/>\n</g>\n<!-- 140547623359880 -->\n<g class=\"node\" id=\"node8\">\n<title>140547623359880</title>\n<polygon fill=\"none\" points=\"78,-.5 78,-36.5 148,-36.5 148,-.5 78,-.5\" stroke=\"#000000\"/>\n<text fill=\"#000000\" font-family=\"Times,serif\" font-size=\"14.00\" text-anchor=\"middle\" x=\"113\" y=\"-14.8\">fc: Dense</text>\n</g>\n<!-- 140546015347208&#45;&gt;140547623359880 -->\n<g class=\"edge\" id=\"edge7\">\n<title>140546015347208-&gt;140547623359880</title>\n<path d=\"M113,-73.4551C113,-65.3828 113,-55.6764 113,-46.6817\" fill=\"none\" stroke=\"#000000\"/>\n<polygon fill=\"#000000\" points=\"116.5001,-46.5903 113,-36.5904 109.5001,-46.5904 116.5001,-46.5903\" stroke=\"#000000\"/>\n</g>\n</g>\n</svg>"
          },
          "metadata": {
            "tags": []
          },
          "execution_count": 31
        }
      ]
    }
  ]
}